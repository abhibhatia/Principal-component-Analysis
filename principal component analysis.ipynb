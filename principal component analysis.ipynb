{
 "cells": [
  {
   "cell_type": "markdown",
   "metadata": {},
   "source": [
    "for ix in range(new_img.shape[0]):\n",
    "    new_img[ix] = colors[km.labels_[ix]]\n",
    "new_img = new_img.reshape((original_shape))\n",
    "plt.imshow(new_img)\n",
    "plt.show()##importing libraries\n",
    "import numpy as np\n",
    "from matplotlib import pyplot as plt \n",
    "%matplotlib inline\n",
    "import pandas as pd\n",
    "import seaborn as sns"
   ]
  },
  {
   "cell_type": "code",
   "execution_count": 58,
   "metadata": {},
   "outputs": [],
   "source": [
    "## creating some data\n",
    "mean_01 = np.array([0,0])\n",
    "cov_01 = np.array([[1.0,1.2],\n",
    "                  [1.2,1.5]])\n",
    "data = np.random.multivariate_normal(mean_01,cov_01, 800)"
   ]
  },
  {
   "cell_type": "code",
   "execution_count": 59,
   "metadata": {},
   "outputs": [
    {
     "data": {
      "image/png": "[encoded data removed]",
      "text/plain": [
       "<Figure size 432x288 with 1 Axes>"
      ]
     },
     "metadata": {
      "needs_background": "light"
     },
     "output_type": "display_data"
    }
   ],
   "source": [
    "#plotting the data\n",
    "plt.figure(0)\n",
    "plt.scatter(data[:,0], data[:,1])\n",
    "plt.show()"
   ]
  },
  {
   "cell_type": "code",
   "execution_count": 60,
   "metadata": {},
   "outputs": [],
   "source": [
    "##pca function computes the eigen values and eigen vectors of the covariance matrix\n",
    "def pca(X):\n",
    "    #compute the covariance\n",
    "    A = np.cov(X.T)\n",
    "    #computing the eigen values and eigen vects\n",
    "    eig_val, eig_vec = np.linalg.eig(A)\n",
    "    return eig_val, eig_vec"
   ]
  },
  {
   "cell_type": "code",
   "execution_count": 72,
   "metadata": {},
   "outputs": [
    {
     "name": "stdout",
     "output_type": "stream",
     "text": [
      "[[-0.7771689  -0.62929206]\n",
      " [ 0.62929206 -0.7771689 ]]\n"
     ]
    }
   ],
   "source": [
    "lam, W  = pca(data)\n",
    "print W"
   ]
  },
  {
   "cell_type": "code",
   "execution_count": 75,
   "metadata": {},
   "outputs": [
    {
     "data": {
      "image/png": "[encoded data removed]",
      "text/plain": [
       "<Figure size 432x288 with 1 Axes>"
      ]
     },
     "metadata": {
      "needs_background": "light"
     },
     "output_type": "display_data"
    }
   ],
   "source": [
    "plt.figure(0)\n",
    "plt.scatter(data[:,0], data[:,1])\n",
    "plt.plot([0, 10*W[0, 0]], [0, 10*W[1, 0]], 'ro--')\n",
    "plt.plot([0, 10*W[0, 0]], [0, 10*W[1, 1]], 'ro--')\n",
    "plt.show()                          "
   ]
  },
  {
   "cell_type": "code",
   "execution_count": 77,
   "metadata": {},
   "outputs": [
    {
     "name": "stdout",
     "output_type": "stream",
     "text": [
      "(800, 2)\n"
     ]
    }
   ],
   "source": [
    "Y = data.dot(W)\n",
    "print Y.shape"
   ]
  },
  {
   "cell_type": "code",
   "execution_count": 67,
   "metadata": {},
   "outputs": [
    {
     "data": {
      "image/png": "[encoded data removed]",
      "text/plain": [
       "<Figure size 432x288 with 1 Axes>"
      ]
     },
     "metadata": {
      "needs_background": "light"
     },
     "output_type": "display_data"
    }
   ],
   "source": [
    "plt.figure(0)\n",
    "plt.xlim(-6,6)\n",
    "plt.ylim(-6,6)\n",
    "plt.scatter(Y[:, 0], Y[:, 1])\n",
    "plt.show()"
   ]
  },
  {
   "cell_type": "code",
   "execution_count": 82,
   "metadata": {},
   "outputs": [
    {
     "name": "stdout",
     "output_type": "stream",
     "text": [
      "[[ 0.02498 -0.     ]\n",
      " [-0.       2.61   ]]\n",
      "--------------------------------------------------------------------------------\n",
      "[[1.04805811 1.26349613]\n",
      " [1.26349613 1.58537947]]\n"
     ]
    }
   ],
   "source": [
    "sigma = np.cov(Y.T)\n",
    "print sigma.astype(np.float16) ##covariance of Y - IT COMES OUT TO BE DIAGONAL.\n",
    "print '-'*80\n",
    "print W.dot(sigma).dot(W.T)  ##covariance of X. "
   ]
  },
  {
   "cell_type": "code",
   "execution_count": null,
   "metadata": {},
   "outputs": [],
   "source": []
  }
 ],
 "metadata": {
  "kernelspec": {
   "display_name": "Python 2",
   "language": "python",
   "name": "python2"
  },
  "language_info": {
   "codemirror_mode": {
    "name": "ipython",
    "version": 2
   },
   "file_extension": ".py",
   "mimetype": "text/x-python",
   "name": "python",
   "nbconvert_exporter": "python",
   "pygments_lexer": "ipython2",
   "version": "2.7.15rc1"
  }
 },
 "nbformat": 4,
 "nbformat_minor": 2
}
